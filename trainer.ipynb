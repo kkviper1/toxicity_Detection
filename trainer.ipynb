{
 "cells": [
  {
   "cell_type": "code",
   "execution_count": 15,
   "metadata": {
    "ExecuteTime": {
     "end_time": "2023-06-06T22:55:35.447293Z",
     "start_time": "2023-06-06T22:55:35.433318500Z"
    },
    "collapsed": true
   },
   "outputs": [],
   "source": [
    "import re\n",
    "import os\n",
    "import numpy as np\n",
    "import pandas as pd\n",
    "from transformers import AutoTokenizer"
   ]
  },
  {
   "cell_type": "code",
   "execution_count": 16,
   "metadata": {
    "ExecuteTime": {
     "end_time": "2023-06-06T22:55:35.447293Z",
     "start_time": "2023-06-06T22:55:35.439748100Z"
    },
    "collapsed": false
   },
   "outputs": [],
   "source": [
    "rootPath = \"/\"\n",
    "relTrainCSVpath = \"CONDA/data/CONDA_train.csv\"\n",
    "relTestCSVpath = \"CONDA/data/CONDA_test.csv\"\n",
    "relValidationCSVpath = \"CONDA/data/CONDA_valid.csv\""
   ]
  },
  {
   "cell_type": "code",
   "execution_count": 17,
   "metadata": {
    "ExecuteTime": {
     "end_time": "2023-06-06T22:55:35.528374500Z",
     "start_time": "2023-06-06T22:55:35.443286400Z"
    },
    "collapsed": false
   },
   "outputs": [],
   "source": [
    "trainDF = pd.read_csv(relTrainCSVpath)\n",
    "testDF = pd.read_csv(relTestCSVpath)\n",
    "valDF = pd.read_csv(relValidationCSVpath)"
   ]
  },
  {
   "cell_type": "code",
   "execution_count": 18,
   "metadata": {
    "ExecuteTime": {
     "end_time": "2023-06-06T22:55:35.707914600Z",
     "start_time": "2023-06-06T22:55:35.529364700Z"
    },
    "collapsed": false
   },
   "outputs": [],
   "source": [
    "tokenizer = AutoTokenizer.from_pretrained(\"distilbert-base-uncased\")"
   ]
  },
  {
   "cell_type": "code",
   "execution_count": 19,
   "metadata": {},
   "outputs": [],
   "source": [
    "texts = trainDF['utterance']\n",
    "labels = trainDF['intentClass']\n",
    "d = {'texts':texts, 'labels': labels}\n",
    "train_DF = pd.DataFrame(d)\n",
    "train_DF = train_DF.fillna('O')\n",
    "texts = train_DF[\"texts\"].tolist()"
   ]
  },
  {
   "cell_type": "code",
   "execution_count": 20,
   "metadata": {
    "ExecuteTime": {
     "end_time": "2023-06-06T22:55:37.036768800Z",
     "start_time": "2023-06-06T22:55:35.711447200Z"
    },
    "collapsed": false
   },
   "outputs": [],
   "source": [
    "# trainDF2 = trainDF['utterance'].map(lambda x: tokenizer(str(x), truncation=True))\n",
    "\n",
    "#trainDF['utterance'] = trainDF['utterance'].map(lambda x: tokenizer(str(x), truncation=True))\n",
    "#train_Str = trainDF.utterance.values.tolist()\n",
    "train_encodings = tokenizer(texts, truncation=True, padding=True)"
   ]
  },
  {
   "cell_type": "code",
   "execution_count": 21,
   "metadata": {
    "ExecuteTime": {
     "end_time": "2023-06-06T22:55:37.042290700Z",
     "start_time": "2023-06-06T22:55:37.034760700Z"
    },
    "collapsed": false
   },
   "outputs": [],
   "source": [
    "from transformers import DataCollatorWithPadding\n",
    "\n",
    "data_collator = DataCollatorWithPadding(tokenizer=tokenizer)"
   ]
  },
  {
   "cell_type": "code",
   "execution_count": 22,
   "metadata": {
    "ExecuteTime": {
     "end_time": "2023-06-06T22:55:37.227600700Z",
     "start_time": "2023-06-06T22:55:37.044729700Z"
    },
    "collapsed": false
   },
   "outputs": [],
   "source": [
    "import evaluate\n",
    "\n",
    "accuracy = evaluate.load(\"accuracy\")"
   ]
  },
  {
   "cell_type": "code",
   "execution_count": 23,
   "metadata": {
    "ExecuteTime": {
     "end_time": "2023-06-06T22:55:37.232858900Z",
     "start_time": "2023-06-06T22:55:37.230332200Z"
    },
    "collapsed": false
   },
   "outputs": [],
   "source": [
    "import numpy as np\n",
    "\n",
    "\n",
    "def compute_metrics(eval_pred):\n",
    "    predictions, labels = eval_pred\n",
    "    predictions = np.argmax(predictions, axis=1)\n",
    "    return accuracy.compute(predictions=predictions, references=labels)"
   ]
  },
  {
   "cell_type": "code",
   "execution_count": 24,
   "metadata": {
    "ExecuteTime": {
     "end_time": "2023-06-06T23:01:17.045159800Z",
     "start_time": "2023-06-06T23:01:17.040771500Z"
    },
    "collapsed": false
   },
   "outputs": [
    {
     "data": {
      "text/plain": [
       "26916    O\n",
       "26917    O\n",
       "26918    O\n",
       "26919    O\n",
       "26920    O\n",
       "Name: labels, dtype: object"
      ]
     },
     "execution_count": 24,
     "metadata": {},
     "output_type": "execute_result"
    }
   ],
   "source": [
    "# print(trainDF['intentClass'][:20])\n",
    "# from sklearn.preprocessing import LabelEncoder\n",
    "\n",
    "# le = LabelEncoder()\n",
    "# trainDF['intentClassLabel'] = le.fit_transform(trainDF['intentClass'])\n",
    "# trainDF[:10]\n",
    "train_DF[\"labels\"].tail()"
   ]
  },
  {
   "cell_type": "code",
   "execution_count": 25,
   "metadata": {
    "ExecuteTime": {
     "end_time": "2023-06-06T23:01:44.230022100Z",
     "start_time": "2023-06-06T23:01:44.221769700Z"
    },
    "collapsed": false
   },
   "outputs": [],
   "source": [
    "id2label = {0: \"A\", 1: \"E\", 2: \"I\", 3: \"O\"}\n",
    "label2id = {\"A\": 0, \"E\": 1, \"I\": 2, \"O\": 3}"
   ]
  },
  {
   "cell_type": "code",
   "execution_count": 26,
   "metadata": {
    "ExecuteTime": {
     "end_time": "2023-06-06T23:02:52.664624700Z",
     "start_time": "2023-06-06T23:02:32.722003600Z"
    },
    "collapsed": false
   },
   "outputs": [
    {
     "name": "stderr",
     "output_type": "stream",
     "text": [
      "Some weights of the model checkpoint at distilbert-base-uncased were not used when initializing DistilBertForSequenceClassification: ['vocab_projector.weight', 'vocab_layer_norm.weight', 'vocab_transform.weight', 'vocab_transform.bias', 'vocab_layer_norm.bias', 'vocab_projector.bias']\n",
      "- This IS expected if you are initializing DistilBertForSequenceClassification from the checkpoint of a model trained on another task or with another architecture (e.g. initializing a BertForSequenceClassification model from a BertForPreTraining model).\n",
      "- This IS NOT expected if you are initializing DistilBertForSequenceClassification from the checkpoint of a model that you expect to be exactly identical (initializing a BertForSequenceClassification model from a BertForSequenceClassification model).\n",
      "Some weights of DistilBertForSequenceClassification were not initialized from the model checkpoint at distilbert-base-uncased and are newly initialized: ['pre_classifier.bias', 'classifier.bias', 'classifier.weight', 'pre_classifier.weight']\n",
      "You should probably TRAIN this model on a down-stream task to be able to use it for predictions and inference.\n"
     ]
    }
   ],
   "source": [
    "from transformers import AutoModelForSequenceClassification, TrainingArguments, Trainer\n",
    "\n",
    "model = AutoModelForSequenceClassification.from_pretrained(\n",
    "    \"distilbert-base-uncased\", num_labels=4, id2label=id2label, label2id=label2id\n",
    ")"
   ]
  },
  {
   "cell_type": "code",
   "execution_count": 27,
   "metadata": {},
   "outputs": [],
   "source": [
    "texts = valDF['utterance']\n",
    "labels = valDF['intentClass']\n",
    "d = {'texts':texts, 'labels': labels}\n",
    "test_DF = pd.DataFrame(d)\n",
    "test_DF = test_DF.fillna('O')\n",
    "val_texts = test_DF['texts'].tolist()"
   ]
  },
  {
   "cell_type": "code",
   "execution_count": 28,
   "metadata": {},
   "outputs": [],
   "source": [
    "test_encodings = tokenizer(val_texts, truncation=True, padding=True) "
   ]
  },
  {
   "cell_type": "code",
   "execution_count": 29,
   "metadata": {},
   "outputs": [],
   "source": [
    "train_DF[\"labels\"].replace('A',0,inplace=True)\n",
    "train_DF[\"labels\"].replace('E',1,inplace=True)\n",
    "train_DF[\"labels\"].replace('I',2,inplace=True)\n",
    "train_DF[\"labels\"].replace('O',3,inplace=True)\n",
    "test_DF[\"labels\"].replace('A',0,inplace=True)\n",
    "test_DF[\"labels\"].replace('E',1,inplace=True)\n",
    "test_DF[\"labels\"].replace('I',2,inplace=True)\n",
    "test_DF[\"labels\"].replace('O',3,inplace=True)\n"
   ]
  },
  {
   "cell_type": "code",
   "execution_count": 30,
   "metadata": {},
   "outputs": [],
   "source": [
    "from torch.utils.data import Dataset\n",
    "import torch\n",
    "\n",
    "\n",
    "class CustomDataset(torch.utils.data.Dataset):\n",
    "    def __init__(self, encodings, labels):\n",
    "        self.encodings = encodings\n",
    "        self.labels = labels\n",
    "\n",
    "    def __getitem__(self, idx):\n",
    "        item = {key: torch.tensor(val[idx]) for key, val in self.encodings.items()}\n",
    "        item['labels'] = torch.tensor(self.labels[idx])\n",
    "        return item\n",
    "\n",
    "    def __len__(self):\n",
    "        return len(self.labels)\n",
    "\n",
    "# class CustomDataset(Dataset):\n",
    "\n",
    "#     def __init__(self, dataframe, tokenizer, max_len):\n",
    "#         self.tokenizer = tokenizer\n",
    "#         self.data = dataframe\n",
    "#         # texts = dataframe.texts.tolist()\n",
    "#         # self.texts = tokenizer(texts,truncation=True, padding=True)\n",
    "#         self.texts = dataframe.texts\n",
    "#         self.targets = self.data.labels\n",
    "#         self.max_len = max_len\n",
    "\n",
    "#     def __len__(self):\n",
    "#         return len(self.texts)\n",
    "\n",
    "#     def __getitem__(self, index):\n",
    "#         # texts = str(self.texts[index])\n",
    "#         # texts = \" \".join(texts.split())\n",
    "\n",
    "#         # # inputs = self.tokenizer.encode_plus(\n",
    "#         # #     texts,\n",
    "#         # #     None,\n",
    "#         # #     add_special_tokens=True,\n",
    "#         # #     max_length=self.max_len,\n",
    "#         # #     pad_to_max_length=True,\n",
    "#         # #     return_token_type_ids=True\n",
    "#         # # )\n",
    "#         # # ids = inputs['input_ids']\n",
    "#         # mask = inputs['attention_mask']\n",
    "#         # token_type_ids = inputs[\"token_type_ids\"]\n",
    "\n",
    "\n",
    "#         # return {\n",
    "#         #     'ids': torch.tensor(ids, dtype=torch.long),\n",
    "#         #     'mask': torch.tensor(mask, dtype=torch.long),\n",
    "#         #     'token_type_ids': torch.tensor(token_type_ids, dtype=torch.long),\n",
    "#         #     'targets': torch.tensor(self.targets[index], dtype=torch.float)\n",
    "#         #     }\n",
    "#         item = {key: torch.tensor(val[index]) for key, val in self.texts.items()}\n",
    "#         item['labels'] = torch.tensor(self.labels[index])\n",
    "#         return item"
   ]
  },
  {
   "cell_type": "code",
   "execution_count": 31,
   "metadata": {},
   "outputs": [],
   "source": [
    "trainDataset = CustomDataset(train_encodings, train_DF['labels'])\n",
    "testDataset = CustomDataset(test_encodings,test_DF['labels'])"
   ]
  },
  {
   "cell_type": "code",
   "execution_count": 32,
   "metadata": {},
   "outputs": [
    {
     "data": {
      "text/plain": [
       "3"
      ]
     },
     "execution_count": 32,
     "metadata": {},
     "output_type": "execute_result"
    }
   ],
   "source": [
    "train_DF['labels'][7720]"
   ]
  },
  {
   "cell_type": "code",
   "execution_count": 33,
   "metadata": {
    "ExecuteTime": {
     "end_time": "2023-06-06T23:04:59.584217Z",
     "start_time": "2023-06-06T23:04:55.551420600Z"
    },
    "collapsed": false
   },
   "outputs": [
    {
     "name": "stderr",
     "output_type": "stream",
     "text": [
      "c:\\Users\\Karan\\Documents\\AI_COURSE\\aasd4011-2023-spring\\venv\\pytorch\\lib\\site-packages\\transformers\\optimization.py:391: FutureWarning: This implementation of AdamW is deprecated and will be removed in a future version. Use the PyTorch implementation torch.optim.AdamW instead, or set `no_deprecation_warning=True` to disable this warning\n",
      "  warnings.warn(\n",
      "  0%|          | 0/842 [00:00<?, ?it/s]You're using a DistilBertTokenizerFast tokenizer. Please note that with a fast tokenizer, using the `__call__` method is faster than using a method to encode the text followed by a call to the `pad` method to get a padded encoding.\n",
      "                                                 \n",
      " 50%|█████     | 421/842 [05:15<04:34,  1.54it/s]"
     ]
    },
    {
     "name": "stdout",
     "output_type": "stream",
     "text": [
      "{'eval_loss': 0.2785699963569641, 'eval_accuracy': 0.9214397147314464, 'eval_runtime': 35.7399, 'eval_samples_per_second': 251.092, 'eval_steps_per_second': 3.945, 'epoch': 1.0}\n"
     ]
    },
    {
     "name": "stderr",
     "output_type": "stream",
     "text": [
      " 59%|█████▉    | 500/842 [06:16<04:18,  1.33it/s]  "
     ]
    },
    {
     "name": "stdout",
     "output_type": "stream",
     "text": [
      "{'loss': 0.3726, 'learning_rate': 8.12351543942993e-06, 'epoch': 1.19}\n"
     ]
    },
    {
     "name": "stderr",
     "output_type": "stream",
     "text": [
      "                                                 \n",
      "100%|██████████| 842/842 [11:18<00:00,  1.41it/s]"
     ]
    },
    {
     "name": "stdout",
     "output_type": "stream",
     "text": [
      "{'eval_loss': 0.26785334944725037, 'eval_accuracy': 0.9231112101626923, 'eval_runtime': 38.9431, 'eval_samples_per_second': 230.439, 'eval_steps_per_second': 3.621, 'epoch': 2.0}\n"
     ]
    },
    {
     "name": "stderr",
     "output_type": "stream",
     "text": [
      "100%|██████████| 842/842 [11:19<00:00,  1.24it/s]"
     ]
    },
    {
     "name": "stdout",
     "output_type": "stream",
     "text": [
      "{'train_runtime': 679.927, 'train_samples_per_second': 79.188, 'train_steps_per_second': 1.238, 'train_loss': 0.31951415000788674, 'epoch': 2.0}\n"
     ]
    },
    {
     "name": "stderr",
     "output_type": "stream",
     "text": [
      "\n"
     ]
    },
    {
     "data": {
      "text/plain": [
       "TrainOutput(global_step=842, training_loss=0.31951415000788674, metrics={'train_runtime': 679.927, 'train_samples_per_second': 79.188, 'train_steps_per_second': 1.238, 'train_loss': 0.31951415000788674, 'epoch': 2.0})"
      ]
     },
     "execution_count": 33,
     "metadata": {},
     "output_type": "execute_result"
    }
   ],
   "source": [
    "training_args = TrainingArguments(\n",
    "    output_dir=\"temp_model\",\n",
    "    learning_rate=2e-5,\n",
    "    per_device_train_batch_size=64,\n",
    "    per_device_eval_batch_size=64,\n",
    "    num_train_epochs=2,\n",
    "    weight_decay=0.01,\n",
    "    evaluation_strategy=\"epoch\",\n",
    "    save_strategy=\"epoch\",\n",
    "    load_best_model_at_end=True,\n",
    "    push_to_hub=False,\n",
    ")\n",
    "\n",
    "trainer = Trainer(\n",
    "    model=model,\n",
    "    args=training_args,\n",
    "    train_dataset=trainDataset,\n",
    "    eval_dataset=testDataset,\n",
    "    tokenizer=tokenizer,\n",
    "    data_collator=data_collator,\n",
    "    compute_metrics=compute_metrics,\n",
    ")\n",
    "\n",
    "trainer.train()"
   ]
  },
  {
   "cell_type": "code",
   "execution_count": null,
   "metadata": {
    "collapsed": false
   },
   "outputs": [],
   "source": []
  }
 ],
 "metadata": {
  "kernelspec": {
   "display_name": "Python 3",
   "language": "python",
   "name": "python3"
  },
  "language_info": {
   "codemirror_mode": {
    "name": "ipython",
    "version": 3
   },
   "file_extension": ".py",
   "mimetype": "text/x-python",
   "name": "python",
   "nbconvert_exporter": "python",
   "pygments_lexer": "ipython3",
   "version": "3.9.15"
  }
 },
 "nbformat": 4,
 "nbformat_minor": 0
}
