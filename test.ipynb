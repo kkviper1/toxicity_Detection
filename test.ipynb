{
 "cells": [
  {
   "cell_type": "code",
   "execution_count": 1,
   "outputs": [],
   "source": [
    "import os\n",
    "import torch\n",
    "import pandas as pd\n",
    "from ipynb.fs.full.gloveImpl import GloveVectorizer"
   ],
   "metadata": {
    "collapsed": false,
    "ExecuteTime": {
     "end_time": "2023-06-06T19:07:48.161339500Z",
     "start_time": "2023-06-06T19:07:42.167940300Z"
    }
   }
  },
  {
   "cell_type": "code",
   "execution_count": 2,
   "outputs": [
    {
     "data": {
      "text/plain": "'NVIDIA GeForce RTX 3060 Laptop GPU'"
     },
     "execution_count": 2,
     "metadata": {},
     "output_type": "execute_result"
    }
   ],
   "source": [
    "torch.cuda.get_device_name(0)"
   ],
   "metadata": {
    "collapsed": false,
    "ExecuteTime": {
     "end_time": "2023-06-06T19:07:48.200495700Z",
     "start_time": "2023-06-06T19:07:48.155340600Z"
    }
   }
  },
  {
   "cell_type": "code",
   "execution_count": 3,
   "outputs": [],
   "source": [
    "rootPath = \"C:/Users/Roger/Documents/PycharmProjects/mathsForDL1/finalProject/\"\n",
    "relTrainCSVpath = \"CONDA/data/CONDA_train.csv\"\n",
    "relTestCSVpath = \"CONDA/data/CONDA_test.csv\"\n",
    "relValidationCSVpath = \"CONDA/data/CONDA_valid.csv\""
   ],
   "metadata": {
    "collapsed": false,
    "ExecuteTime": {
     "end_time": "2023-06-06T19:07:48.203495300Z",
     "start_time": "2023-06-06T19:07:48.197703700Z"
    }
   }
  },
  {
   "cell_type": "markdown",
   "source": [
    "# EDA"
   ],
   "metadata": {
    "collapsed": false
   }
  },
  {
   "cell_type": "code",
   "execution_count": 4,
   "outputs": [],
   "source": [
    "trainDF = pd.read_csv(os.path.join(rootPath,relTrainCSVpath))\n",
    "testDF = pd.read_csv(os.path.join(rootPath,relTestCSVpath))\n",
    "valDF = pd.read_csv(os.path.join(rootPath,relValidationCSVpath))"
   ],
   "metadata": {
    "collapsed": false,
    "ExecuteTime": {
     "end_time": "2023-06-06T19:07:48.293643500Z",
     "start_time": "2023-06-06T19:07:48.201495400Z"
    }
   }
  },
  {
   "cell_type": "code",
   "execution_count": 5,
   "outputs": [
    {
     "name": "stdout",
     "output_type": "stream",
     "text": [
      "No. of unique intent classes : 4\n",
      "Unique Intent classes : ['O' 'E' 'A' 'I']\n",
      "Unique Intent classes : \n",
      "O    19982\n",
      "E     3528\n",
      "A     1719\n",
      "I     1692\n",
      "Name: intentClass, dtype: int64\n"
     ]
    }
   ],
   "source": [
    "print(f\"No. of unique intent classes : {trainDF['intentClass'].nunique()}\")\n",
    "print(f\"Unique Intent classes : {trainDF['intentClass'].unique()}\")\n",
    "print(f\"Unique Intent classes : \\n{trainDF['intentClass'].value_counts()}\")"
   ],
   "metadata": {
    "collapsed": false,
    "ExecuteTime": {
     "end_time": "2023-06-06T19:07:50.350567600Z",
     "start_time": "2023-06-06T19:07:50.329821500Z"
    }
   }
  },
  {
   "cell_type": "code",
   "execution_count": 7,
   "outputs": [
    {
     "data": {
      "text/plain": "          Id  matchId  conversationId               utterance  chatTime  \\\n0      11263      697            3193                    wow!        76   \n1      13741      843            3809                     WTF      1563   \n2      22125     1412            6199                 wpe wpe      2853   \n3       6453      439            1875                  hahaha      1038   \n4       9644      601            2713                     wtf      1661   \n...      ...      ...             ...                     ...       ...   \n26916  11284      699            3201         cant believe it      3029   \n26917  44732     3028           12854                      AH      1836   \n26918  38158     2496           10711                       !      2171   \n26919    860       72             289  dayuuuuuum [SEPA] lool      1721   \n26920  15795      977            4349                      Gg      2285   \n\n       playerSlot                     playerId intentClass slotClasses  \\\n0               0      ANTS IN MY EYES JOHNSON           O          O    \n1               5                          M.k           O          T    \n2               1                  Acqua Ragia           O        O O    \n3               0                     juicebox           O          O    \n4               5                KAIST.Shadows           O          T    \n...           ...                          ...         ...         ...   \n26916           1  Unstoppable Fucking Process           O      O O P    \n26917           5                           EF           O          O    \n26918           5          bent but not broken           O         NaN   \n26919           8               Inori Yuzuriha           O   O SEPA O    \n26920           2                        GDawG           O          S    \n\n                                      slotTokens  \n0                                      wow (O),   \n1                                      WTF (T),   \n2                             wpe (O), wpe (O),   \n3                                   hahaha (O),   \n4                                      wtf (T),   \n...                                          ...  \n26916            cant (O), believe (O), it (P),   \n26917                                   AH (O),   \n26918                                        NaN  \n26919  dayuuuuuum (O), [SEPA] (SEPA), lool (O),   \n26920                                   Gg (S),   \n\n[26921 rows x 10 columns]",
      "text/html": "<div>\n<style scoped>\n    .dataframe tbody tr th:only-of-type {\n        vertical-align: middle;\n    }\n\n    .dataframe tbody tr th {\n        vertical-align: top;\n    }\n\n    .dataframe thead th {\n        text-align: right;\n    }\n</style>\n<table border=\"1\" class=\"dataframe\">\n  <thead>\n    <tr style=\"text-align: right;\">\n      <th></th>\n      <th>Id</th>\n      <th>matchId</th>\n      <th>conversationId</th>\n      <th>utterance</th>\n      <th>chatTime</th>\n      <th>playerSlot</th>\n      <th>playerId</th>\n      <th>intentClass</th>\n      <th>slotClasses</th>\n      <th>slotTokens</th>\n    </tr>\n  </thead>\n  <tbody>\n    <tr>\n      <th>0</th>\n      <td>11263</td>\n      <td>697</td>\n      <td>3193</td>\n      <td>wow!</td>\n      <td>76</td>\n      <td>0</td>\n      <td>ANTS IN MY EYES JOHNSON</td>\n      <td>O</td>\n      <td>O</td>\n      <td>wow (O),</td>\n    </tr>\n    <tr>\n      <th>1</th>\n      <td>13741</td>\n      <td>843</td>\n      <td>3809</td>\n      <td>WTF</td>\n      <td>1563</td>\n      <td>5</td>\n      <td>M.k</td>\n      <td>O</td>\n      <td>T</td>\n      <td>WTF (T),</td>\n    </tr>\n    <tr>\n      <th>2</th>\n      <td>22125</td>\n      <td>1412</td>\n      <td>6199</td>\n      <td>wpe wpe</td>\n      <td>2853</td>\n      <td>1</td>\n      <td>Acqua Ragia</td>\n      <td>O</td>\n      <td>O O</td>\n      <td>wpe (O), wpe (O),</td>\n    </tr>\n    <tr>\n      <th>3</th>\n      <td>6453</td>\n      <td>439</td>\n      <td>1875</td>\n      <td>hahaha</td>\n      <td>1038</td>\n      <td>0</td>\n      <td>juicebox</td>\n      <td>O</td>\n      <td>O</td>\n      <td>hahaha (O),</td>\n    </tr>\n    <tr>\n      <th>4</th>\n      <td>9644</td>\n      <td>601</td>\n      <td>2713</td>\n      <td>wtf</td>\n      <td>1661</td>\n      <td>5</td>\n      <td>KAIST.Shadows</td>\n      <td>O</td>\n      <td>T</td>\n      <td>wtf (T),</td>\n    </tr>\n    <tr>\n      <th>...</th>\n      <td>...</td>\n      <td>...</td>\n      <td>...</td>\n      <td>...</td>\n      <td>...</td>\n      <td>...</td>\n      <td>...</td>\n      <td>...</td>\n      <td>...</td>\n      <td>...</td>\n    </tr>\n    <tr>\n      <th>26916</th>\n      <td>11284</td>\n      <td>699</td>\n      <td>3201</td>\n      <td>cant believe it</td>\n      <td>3029</td>\n      <td>1</td>\n      <td>Unstoppable Fucking Process</td>\n      <td>O</td>\n      <td>O O P</td>\n      <td>cant (O), believe (O), it (P),</td>\n    </tr>\n    <tr>\n      <th>26917</th>\n      <td>44732</td>\n      <td>3028</td>\n      <td>12854</td>\n      <td>AH</td>\n      <td>1836</td>\n      <td>5</td>\n      <td>EF</td>\n      <td>O</td>\n      <td>O</td>\n      <td>AH (O),</td>\n    </tr>\n    <tr>\n      <th>26918</th>\n      <td>38158</td>\n      <td>2496</td>\n      <td>10711</td>\n      <td>!</td>\n      <td>2171</td>\n      <td>5</td>\n      <td>bent but not broken</td>\n      <td>O</td>\n      <td>NaN</td>\n      <td>NaN</td>\n    </tr>\n    <tr>\n      <th>26919</th>\n      <td>860</td>\n      <td>72</td>\n      <td>289</td>\n      <td>dayuuuuuum [SEPA] lool</td>\n      <td>1721</td>\n      <td>8</td>\n      <td>Inori Yuzuriha</td>\n      <td>O</td>\n      <td>O SEPA O</td>\n      <td>dayuuuuuum (O), [SEPA] (SEPA), lool (O),</td>\n    </tr>\n    <tr>\n      <th>26920</th>\n      <td>15795</td>\n      <td>977</td>\n      <td>4349</td>\n      <td>Gg</td>\n      <td>2285</td>\n      <td>2</td>\n      <td>GDawG</td>\n      <td>O</td>\n      <td>S</td>\n      <td>Gg (S),</td>\n    </tr>\n  </tbody>\n</table>\n<p>26921 rows × 10 columns</p>\n</div>"
     },
     "execution_count": 7,
     "metadata": {},
     "output_type": "execute_result"
    }
   ],
   "source": [
    "trainDF"
   ],
   "metadata": {
    "collapsed": false,
    "ExecuteTime": {
     "end_time": "2023-06-06T19:08:14.606102600Z",
     "start_time": "2023-06-06T19:08:14.584646500Z"
    }
   }
  },
  {
   "cell_type": "code",
   "execution_count": 6,
   "outputs": [
    {
     "name": "stdout",
     "output_type": "stream",
     "text": [
      "intentClass            \n",
      "A            g               42\n",
      "             wait            32\n",
      "             w8              28\n",
      "             commend me      23\n",
      "             G               18\n",
      "E            noob            31\n",
      "             fuck you        27\n",
      "             noobs           14\n",
      "             fuck u          13\n",
      "             bitch           11\n",
      "I            ez             205\n",
      "             EZ              62\n",
      "             ez mid          43\n",
      "             Ez              28\n",
      "             ez game         19\n",
      "O            gg            1100\n",
      "             lol            516\n",
      "             ?              343\n",
      "             ggwp           269\n",
      "             haha           268\n",
      "Name: utterance, dtype: int64\n"
     ]
    }
   ],
   "source": [
    "print(trainDF.groupby('intentClass')['utterance'].apply(lambda x: x.value_counts().nlargest(5)))"
   ],
   "metadata": {
    "collapsed": false,
    "ExecuteTime": {
     "end_time": "2023-06-06T19:07:50.888339700Z",
     "start_time": "2023-06-06T19:07:50.864086700Z"
    }
   }
  },
  {
   "cell_type": "code",
   "execution_count": 20,
   "outputs": [],
   "source": [
    "X, y = trainDF['utterance'].astype('str'), trainDF['intentClass']"
   ],
   "metadata": {
    "collapsed": false,
    "ExecuteTime": {
     "end_time": "2023-06-02T21:38:07.156814700Z",
     "start_time": "2023-06-02T21:38:07.137720500Z"
    }
   }
  },
  {
   "cell_type": "code",
   "execution_count": 8,
   "outputs": [
    {
     "name": "stdout",
     "output_type": "stream",
     "text": [
      "Loading word vectors from Glove...\n",
      "Found 2196016 word vectors.\n"
     ]
    }
   ],
   "source": [
    "vectorizer = GloveVectorizer()"
   ],
   "metadata": {
    "collapsed": false,
    "ExecuteTime": {
     "end_time": "2023-06-02T21:33:30.916884300Z",
     "start_time": "2023-06-02T21:28:32.255419100Z"
    }
   }
  },
  {
   "cell_type": "code",
   "execution_count": 21,
   "outputs": [
    {
     "name": "stdout",
     "output_type": "stream",
     "text": [
      "Numer of samples with no words found: 1802 / 26921\n"
     ]
    }
   ],
   "source": [
    "Xtrain = vectorizer.fit_transform(X)"
   ],
   "metadata": {
    "collapsed": false,
    "ExecuteTime": {
     "end_time": "2023-06-02T21:38:10.433643900Z",
     "start_time": "2023-06-02T21:38:09.540823900Z"
    }
   }
  },
  {
   "cell_type": "code",
   "execution_count": 22,
   "outputs": [
    {
     "data": {
      "text/plain": "0                          wow!\n1                           WTF\n2                       wpe wpe\n3                        hahaha\n4                           wtf\n                  ...          \n26916           cant believe it\n26917                        AH\n26918                         !\n26919    dayuuuuuum [SEPA] lool\n26920                        Gg\nName: utterance, Length: 26921, dtype: object"
     },
     "execution_count": 22,
     "metadata": {},
     "output_type": "execute_result"
    }
   ],
   "source": [
    "X\n"
   ],
   "metadata": {
    "collapsed": false,
    "ExecuteTime": {
     "end_time": "2023-06-02T21:38:19.573948100Z",
     "start_time": "2023-06-02T21:38:19.545684400Z"
    }
   }
  },
  {
   "cell_type": "code",
   "execution_count": null,
   "outputs": [],
   "source": [],
   "metadata": {
    "collapsed": false
   }
  }
 ],
 "metadata": {
  "kernelspec": {
   "display_name": "Python 3",
   "language": "python",
   "name": "python3"
  },
  "language_info": {
   "codemirror_mode": {
    "name": "ipython",
    "version": 2
   },
   "file_extension": ".py",
   "mimetype": "text/x-python",
   "name": "python",
   "nbconvert_exporter": "python",
   "pygments_lexer": "ipython2",
   "version": "2.7.6"
  }
 },
 "nbformat": 4,
 "nbformat_minor": 0
}
